{
 "cells": [
  {
   "cell_type": "code",
   "execution_count": 5,
   "metadata": {},
   "outputs": [],
   "source": [
    "import copy\n",
    "import nltk\n",
    "from nltk import word_tokenize, sent_tokenize\n",
    "import numpy as np\n",
    "import json"
   ]
  },
  {
   "cell_type": "code",
   "execution_count": 6,
   "metadata": {},
   "outputs": [],
   "source": [
    "folder = 'dataset'"
   ]
  },
  {
   "cell_type": "code",
   "execution_count": 7,
   "metadata": {},
   "outputs": [],
   "source": [
    "sample_ds_dict = {\n",
    "    'intent': [],\n",
    "    'slots': [],\n",
    "    'text': [],\n",
    "    'lang': [],\n",
    "    'tokens': [],\n",
    "    'tokenSpans': [],\n",
    "}\n",
    "ds_dict = {}"
   ]
  },
  {
   "cell_type": "code",
   "execution_count": 8,
   "metadata": {},
   "outputs": [
    {
     "ename": "NameError",
     "evalue": "name 'sample_dict' is not defined",
     "output_type": "error",
     "traceback": [
      "\u001b[0;31m---------------------------------------------------------------------------\u001b[0m",
      "\u001b[0;31mNameError\u001b[0m                                 Traceback (most recent call last)",
      "\u001b[1;32m/mnt/c/Users/USER/PycharmProjects/MyChatBot/explore_dataset.ipynb Cell 4\u001b[0m line \u001b[0;36m2\n\u001b[1;32m      <a href='vscode-notebook-cell://wsl%2Bubuntu-22.04/mnt/c/Users/USER/PycharmProjects/MyChatBot/explore_dataset.ipynb#W3sdnNjb2RlLXJlbW90ZQ%3D%3D?line=0'>1</a>\u001b[0m \u001b[39mwith\u001b[39;00m \u001b[39mopen\u001b[39m(\u001b[39mf\u001b[39m\u001b[39m'\u001b[39m\u001b[39m{\u001b[39;00mfolder\u001b[39m}\u001b[39;00m\u001b[39m/train-en.tsv\u001b[39m\u001b[39m'\u001b[39m) \u001b[39mas\u001b[39;00m f:\n\u001b[0;32m----> <a href='vscode-notebook-cell://wsl%2Bubuntu-22.04/mnt/c/Users/USER/PycharmProjects/MyChatBot/explore_dataset.ipynb#W3sdnNjb2RlLXJlbW90ZQ%3D%3D?line=1'>2</a>\u001b[0m     en_dict \u001b[39m=\u001b[39m copy\u001b[39m.\u001b[39mdeepcopy(sample_dict)\n\u001b[1;32m      <a href='vscode-notebook-cell://wsl%2Bubuntu-22.04/mnt/c/Users/USER/PycharmProjects/MyChatBot/explore_dataset.ipynb#W3sdnNjb2RlLXJlbW90ZQ%3D%3D?line=2'>3</a>\u001b[0m     lines \u001b[39m=\u001b[39m f\u001b[39m.\u001b[39mreadlines()\n\u001b[1;32m      <a href='vscode-notebook-cell://wsl%2Bubuntu-22.04/mnt/c/Users/USER/PycharmProjects/MyChatBot/explore_dataset.ipynb#W3sdnNjb2RlLXJlbW90ZQ%3D%3D?line=3'>4</a>\u001b[0m     \u001b[39mfor\u001b[39;00m line \u001b[39min\u001b[39;00m lines:\n",
      "\u001b[0;31mNameError\u001b[0m: name 'sample_dict' is not defined"
     ]
    }
   ],
   "source": [
    "with open(f'{folder}/train-en.tsv') as f:\n",
    "    en_dict = copy.deepcopy(sample_ds_dict)\n",
    "    lines = f.readlines()\n",
    "    for line in lines:\n",
    "        line = line.split('\\t')\n",
    "        json_dict = json.loads(line[4])\n",
    "        en_dict['intent'].append(line[0])\n",
    "        en_dict['slots'].append(line[1])\n",
    "        en_dict['text'].append(line[2])\n",
    "        en_dict['lang'].append(line[3])\n",
    "        en_dict['tokens'].append(json_dict['tokenizations'][0]['tokens'])\n",
    "        en_dict['tokenSpans'].append(json_dict['tokenizations'][0]['tokenSpans'])\n",
    "    ds_dict['en'] = en_dict"
   ]
  },
  {
   "cell_type": "code",
   "execution_count": null,
   "metadata": {},
   "outputs": [],
   "source": [
    "with open(f'{folder}/train-es.upsampled.tsv') as f:\n",
    "    es_dict = copy.deepcopy(sample_ds_dict)\n",
    "    lines = f.readlines()\n",
    "    for line in lines:\n",
    "        line = line.split('\\t')\n",
    "        json_dict = json.loads(line[8])\n",
    "        es_dict['intent'].append(line[0])\n",
    "        es_dict['slots'].append(line[1])\n",
    "        es_dict['text'].append(line[2])\n",
    "        es_dict['lang'].append(line[7])\n",
    "        es_dict['tokens'].append(json_dict['tokenizations'][0]['tokens'])\n",
    "        es_dict['tokenSpans'].append(json_dict['tokenizations'][0]['tokenSpans'])\n",
    "    ds_dict['es'] = es_dict"
   ]
  },
  {
   "cell_type": "code",
   "execution_count": null,
   "metadata": {},
   "outputs": [],
   "source": [
    "with open(f'{folder}/train-th_TH.upsampled.tsv') as f:\n",
    "    th_dict = copy.deepcopy(sample_ds_dict)\n",
    "    lines = f.readlines()\n",
    "    for line in lines:\n",
    "        line = line.split('\\t')\n",
    "        json_dict = json.loads(line[8])\n",
    "        th_dict['intent'].append(line[0])\n",
    "        th_dict['slots'].append(line[1])\n",
    "        th_dict['text'].append(line[2])\n",
    "        th_dict['lang'].append(line[7])\n",
    "        th_dict['tokens'].append(json_dict['tokenizations'][0]['tokens'])\n",
    "        th_dict['tokenSpans'].append(json_dict['tokenizations'][0]['tokenSpans'])\n",
    "    ds_dict['th'] = th_dict"
   ]
  },
  {
   "cell_type": "code",
   "execution_count": null,
   "metadata": {},
   "outputs": [],
   "source": [
    "sample_stats_dict = {\n",
    "    'vocab': None,\n",
    "    'unique_intent_count': 0,\n",
    "    'dialogue_count': 0,\n",
    "    'turn_count': 0,\n",
    "    'word_count': 0,\n",
    "    'word_mean': None,\n",
    "    'word_std': None,\n",
    "    'sent_count': 0,\n",
    "    'sent_mean': None,\n",
    "    'sent_std': None,\n",
    "}\n",
    "stats_dict = {'all': {\n",
    "    'vocab': None,\n",
    "    'unique_intent_count': 0,\n",
    "    'dialogue_count': 0,\n",
    "    'turn_count': 0,\n",
    "    'word_count': 0,\n",
    "    'word_mean': None,\n",
    "    'word_std': None,\n",
    "    'sent_count': 0,\n",
    "    'sent_mean': None,\n",
    "    'sent_std': None,\n",
    "}}"
   ]
  },
  {
   "cell_type": "code",
   "execution_count": null,
   "metadata": {},
   "outputs": [],
   "source": [
    "outer_vocab = []\n",
    "unique_intents = []\n",
    "outer_word_len_list = []\n",
    "outer_sent_len_list = []\n",
    "for lang, content in ds_dict.items():\n",
    "    lang_stats_dict = copy.deepcopy(sample_stats_dict)\n",
    "    vocab = []\n",
    "    word_len_list = []\n",
    "    sent_len_list = []\n",
    "    samples = content['text']\n",
    "    intents = content['intent']\n",
    "    for sample in samples:\n",
    "        words = word_tokenize(sample)\n",
    "        for word in words:\n",
    "            if not word.lower() in vocab:\n",
    "                vocab.append(word.lower())\n",
    "            if not word.lower() in outer_vocab:\n",
    "                outer_vocab.append(word.lower())\n",
    "        sentences = sent_tokenize(sample)\n",
    "        word_len_list.append(len(words))\n",
    "        sent_len_list.append(len(sentences))\n",
    "        outer_word_len_list.extend(word_len_list)\n",
    "        outer_sent_len_list.extend(sent_len_list)\n",
    "        lang_stats_dict['word_count'] += len(words)\n",
    "        lang_stats_dict['sent_count'] += len(sentences)\n",
    "        lang_stats_dict['dialogue_count'] += 1\n",
    "        lang_stats_dict['turn_count'] += 1\n",
    "    lang_stats_dict['unique_intent_count'] += len(set(intents))\n",
    "    for intent in intents:\n",
    "        if not intent in unique_intents:\n",
    "            unique_intents.append(intent)\n",
    "    lang_stats_dict['vocab'] = len(vocab)\n",
    "\n",
    "    lang_stats_dict['word_mean'] = np.mean(word_len_list)\n",
    "    lang_stats_dict['word_std'] = np.std(word_len_list)\n",
    "    lang_stats_dict['sent_mean'] = np.mean(sent_len_list)\n",
    "    lang_stats_dict['sent_std'] = np.std(sent_len_list)\n",
    "    stats_dict[lang] = lang_stats_dict\n",
    "stats_dict['all']['vocab'] = len(outer_vocab)\n",
    "stats_dict['all']['unique_intent_count'] = len(unique_intents)\n",
    "stats_dict['all']['word_mean'] = np.mean(outer_word_len_list)\n",
    "stats_dict['all']['word_std'] = np.std(outer_word_len_list)\n",
    "stats_dict['all']['sent_mean'] = np.mean(outer_sent_len_list)\n",
    "stats_dict['all']['sent_std'] = np.std(outer_sent_len_list)"
   ]
  },
  {
   "cell_type": "code",
   "execution_count": null,
   "metadata": {},
   "outputs": [],
   "source": [
    "for lang in stats_dict.keys():\n",
    "    if lang == 'all':\n",
    "        continue\n",
    "    stats_dict['all']['dialogue_count'] += stats_dict[lang]['dialogue_count']\n",
    "    stats_dict['all']['turn_count'] += stats_dict[lang]['turn_count']\n",
    "    stats_dict['all']['word_count'] += stats_dict[lang]['word_count']\n",
    "    stats_dict['all']['sent_count'] += stats_dict[lang]['sent_count']"
   ]
  },
  {
   "cell_type": "code",
   "execution_count": null,
   "metadata": {},
   "outputs": [
    {
     "data": {
      "text/plain": [
       "{'all': {'vocab': 7600,\n",
       "  'unique_intent_count': 12,\n",
       "  'dialogue_count': 87485,\n",
       "  'turn_count': 87485,\n",
       "  'word_count': 475943,\n",
       "  'word_mean': 5.55662502974588,\n",
       "  'word_std': 3.466981681294621,\n",
       "  'sent_count': 87732,\n",
       "  'sent_mean': 1.0027507659224768,\n",
       "  'sent_std': 0.05489888513576659},\n",
       " 'en': {'vocab': 4110,\n",
       "  'unique_intent_count': 12,\n",
       "  'dialogue_count': 30521,\n",
       "  'turn_count': 30521,\n",
       "  'word_count': 221009,\n",
       "  'word_mean': 7.241210969496413,\n",
       "  'word_std': 2.5027765770752772,\n",
       "  'sent_count': 30580,\n",
       "  'sent_mean': 1.0019330952458962,\n",
       "  'sent_std': 0.04466415834950687},\n",
       " 'es': {'vocab': 1974,\n",
       "  'unique_intent_count': 12,\n",
       "  'dialogue_count': 28936,\n",
       "  'turn_count': 28936,\n",
       "  'word_count': 209512,\n",
       "  'word_mean': 7.240530826651922,\n",
       "  'word_std': 2.751566682730802,\n",
       "  'sent_count': 28968,\n",
       "  'sent_mean': 1.0011058888581696,\n",
       "  'sent_std': 0.03323651407718821},\n",
       " 'th': {'vocab': 2101,\n",
       "  'unique_intent_count': 10,\n",
       "  'dialogue_count': 28028,\n",
       "  'turn_count': 28028,\n",
       "  'word_count': 45422,\n",
       "  'word_mean': 1.6205936920222634,\n",
       "  'word_std': 0.9645010918861805,\n",
       "  'sent_count': 28184,\n",
       "  'sent_mean': 1.0055658627087198,\n",
       "  'sent_std': 0.08038984802706232}}"
      ]
     },
     "execution_count": 81,
     "metadata": {},
     "output_type": "execute_result"
    }
   ],
   "source": [
    "stats_dict"
   ]
  }
 ],
 "metadata": {
  "kernelspec": {
   "display_name": "sagemaker",
   "language": "python",
   "name": "python3"
  },
  "language_info": {
   "codemirror_mode": {
    "name": "ipython",
    "version": 3
   },
   "file_extension": ".py",
   "mimetype": "text/x-python",
   "name": "python",
   "nbconvert_exporter": "python",
   "pygments_lexer": "ipython3",
   "version": "3.10.12"
  }
 },
 "nbformat": 4,
 "nbformat_minor": 2
}
